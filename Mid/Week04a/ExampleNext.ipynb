{
 "cells": [
  {
   "cell_type": "markdown",
   "metadata": {},
   "source": [
    "# Example next"
   ]
  },
  {
   "cell_type": "markdown",
   "metadata": {},
   "source": [
    "### Example05 - 스파이크 감지"
   ]
  },
  {
   "cell_type": "code",
   "execution_count": null,
   "metadata": {},
   "outputs": [],
   "source": [
    "import tensorflow as tf\n",
    "\n",
    "# 데이터 스파이크 5 이상을 검출하는 코드(cur 데이터가 prev 데이터 기준으로)\n",
    "raw_data = [1.0, 2.0, 8.0, -1.0, 0, 5.5, 6.0, 13.0]\n",
    "spikes = tf.Variable([False] * len(raw_data), name=\"spikes\")\n",
    "spikes.numpy()\n",
    "\n",
    "for i in range(1, len(raw_data)):\n",
    "    if raw_data[i] - raw_data[i-1] > 5:\n",
    "        spikes_val = spikes.numpy()\n",
    "        spikes_val[i] = True\n",
    "        spikes.assign(spikes_val)\n",
    "\n",
    "print(spikes.numpy(), end=\"\\n\")"
   ]
  },
  {
   "cell_type": "markdown",
   "metadata": {},
   "source": [
    "### Example06 - 코드 삽입"
   ]
  },
  {
   "cell_type": "code",
   "execution_count": null,
   "metadata": {},
   "outputs": [],
   "source": [
    "import tensorflow as tf\n",
    "import os\n",
    "\n",
    "raw_data = [1.0, 2.0, 8.0, -1.0, 0, 5.5, 6.0, 13.0]\n",
    "spikes = tf.Variable([False] * len(raw_data), name=\"spikes\")\n",
    "spikes.numpy()\n",
    "\n",
    "for i in range(1, len(raw_data)):\n",
    "    if raw_data[i] - raw_data[i-1] > 5:\n",
    "        spikes_val = spikes.numpy()\n",
    "        spikes_val[i] = True\n",
    "        spikes.assign(spikes_val)\n",
    "\n",
    "print(spikes.numpy(), end=\"\\n\")\n",
    "\n",
    "directory = \"./ExampleNext06Checkpoint\"\n",
    "if not os.path.exists(directory):\n",
    "    os.makedirs(directory)\n",
    "checkpoint = tf.train.Checkpoint(spikes=spikes)\n",
    "save_path = checkpoint.save(\"./ExampleNext06Checkpoint/spikes.ckpt\")"
   ]
  },
  {
   "cell_type": "markdown",
   "metadata": {},
   "source": [
    "### Example07 - 변수 로딩"
   ]
  },
  {
   "cell_type": "code",
   "execution_count": null,
   "metadata": {},
   "outputs": [],
   "source": [
    "import tensorflow as tf\n",
    "\n",
    "nspikes = tf.Variable([False] * 8, name=\"spikes\")\n",
    "nspikes.numpy()\n",
    "\n",
    "new_checkpoint = tf.train.Checkpoint(spikes=nspikes)\n",
    "new_checkpoint.restore(\"./ExampleNext06Checkpoint/spikes.ckpt-1\")\n",
    "\n",
    "result = nspikes.numpy()\n",
    "print(result)"
   ]
  }
 ],
 "metadata": {
  "kernelspec": {
   "display_name": ".venv",
   "language": "python",
   "name": "python3"
  },
  "language_info": {
   "codemirror_mode": {
    "name": "ipython",
    "version": 3
   },
   "file_extension": ".py",
   "mimetype": "text/x-python",
   "name": "python",
   "nbconvert_exporter": "python",
   "pygments_lexer": "ipython3",
   "version": "3.7.4"
  }
 },
 "nbformat": 4,
 "nbformat_minor": 2
}
