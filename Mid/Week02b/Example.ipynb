{
 "cells": [
  {
   "cell_type": "markdown",
   "metadata": {},
   "source": [
    "# Week01b - Example"
   ]
  },
  {
   "cell_type": "markdown",
   "metadata": {},
   "source": [
    "### Example01 - 텐서플로우의 변수 텐서 생성 코드"
   ]
  },
  {
   "cell_type": "code",
   "execution_count": 1,
   "metadata": {},
   "outputs": [
    {
     "name": "stdout",
     "output_type": "stream",
     "text": [
      "tf.Tensor(\n",
      "[[ 1  2  3  4]\n",
      " [ 5  6  7  8]\n",
      " [ 9 10 11 12]], shape=(3, 4), dtype=int32)\n",
      "\n",
      "tf.Tensor(5, shape=(), dtype=int32)\n",
      "\n"
     ]
    }
   ],
   "source": [
    "import tensorflow as tf\n",
    "# 2차원 텐서 생성 예제\n",
    "x = tf.constant([[1,2,3,4],\n",
    "                 [5,6,7,8],\n",
    "                 [9,10,11,12]])\n",
    "print(x, end=\"\\n\\n\")\n",
    "# 상수 텐서 생성 연산 예제\n",
    "constant_a = tf.constant(2)\n",
    "constant_b = tf.constant(3)\n",
    "c = constant_a + constant_b\n",
    "print(c, end=\"\\n\\n\")"
   ]
  },
  {
   "cell_type": "markdown",
   "metadata": {},
   "source": [
    "### Example02 - 텐서플로우의 변수 텐서 생성 코드"
   ]
  },
  {
   "cell_type": "code",
   "execution_count": 2,
   "metadata": {},
   "outputs": [
    {
     "name": "stdout",
     "output_type": "stream",
     "text": [
      "<tf.Variable 'x:0' shape=(3, 4) dtype=int32, numpy=\n",
      "array([[ 1,  2,  3,  4],\n",
      "       [ 5,  6,  7,  8],\n",
      "       [ 9, 10, 11, 12]])>\n",
      "\n",
      "tf.Tensor(5, shape=(), dtype=int32)\n",
      "\n"
     ]
    }
   ],
   "source": [
    "import tensorflow as tf\n",
    "# 2차원 텐서 생성 예제\n",
    "x = tf.Variable(initial_value=[[1,2,3,4],\n",
    "                               [5,6,7,8],\n",
    "                               [9,10,11,12]], name=\"x\")\n",
    "print(x, end=\"\\n\\n\")\n",
    "# 변수 텐서 생성 연산 예제\n",
    "variable_a = tf.Variable(initial_value=2)\n",
    "variable_b = tf.Variable(initial_value=3)\n",
    "c = variable_a + variable_b\n",
    "print(c, end=\"\\n\\n\")"
   ]
  },
  {
   "cell_type": "markdown",
   "metadata": {},
   "source": [
    "### Example03 - 텐서 연산자 생성 코드"
   ]
  },
  {
   "cell_type": "code",
   "execution_count": 3,
   "metadata": {},
   "outputs": [
    {
     "name": "stdout",
     "output_type": "stream",
     "text": [
      "tf.Tensor([[-1 -2]], shape=(1, 2), dtype=int32)\n",
      "\n",
      "[[2 4]]\n",
      "\n",
      "tf.Tensor([2 3 4], shape=(3,), dtype=int32)\n",
      "\n"
     ]
    }
   ],
   "source": [
    "import tensorflow as tf\n",
    "\n",
    "x = tf.constant([[1, 2]])\n",
    "y = tf.constant([[1, 2]])\n",
    "\n",
    "negMatrix = tf.negative(x)\n",
    "print(negMatrix, end=\"\\n\\n\")\n",
    "\n",
    "negMatrix.numpy()\n",
    "z=tf.add(x, y)\n",
    "tf.subtract(x, y)\n",
    "tf.multiply(x, y)\n",
    "tf.pow(x, y)\n",
    "tf.exp(1.1) #float지정\n",
    "tf.sqrt(0.3) #float지정\n",
    "tf.divide(x, y)\n",
    "tf.truediv(x, y)\n",
    "tf.math.floordiv(x, y)\n",
    "tf.math.mod(x, y)\n",
    "print(z.numpy(), end=\"\\n\\n\")\n",
    "\n",
    "tensor1 = tf.constant([1, 2, 3],dtype=tf.int32) \n",
    "tensor2 = tf.ones([3],dtype=tf.int32)\n",
    "\n",
    "result = tensor1 + tensor2\n",
    "print(result, end=\"\\n\\n\")"
   ]
  },
  {
   "cell_type": "markdown",
   "metadata": {},
   "source": [
    "### Example04 - 텐서 변환"
   ]
  },
  {
   "cell_type": "code",
   "execution_count": 4,
   "metadata": {},
   "outputs": [
    {
     "name": "stdout",
     "output_type": "stream",
     "text": [
      "tf.Tensor(\n",
      "[[1. 2.]\n",
      " [3. 4.]], shape=(2, 2), dtype=float32)\n",
      "tf.Tensor(\n",
      "[[1. 2.]\n",
      " [3. 4.]], shape=(2, 2), dtype=float32)\n",
      "tf.Tensor([1 0 1], shape=(3,), dtype=int32)\n",
      "tf.Tensor([1. 2. 3. 4.], shape=(4,), dtype=float32)\n",
      "[ tensor_2d ]\n",
      "tf.Tensor(\n",
      "[[1 2 3]\n",
      " [4 5 6]], shape=(2, 3), dtype=int32)\n",
      "\n",
      "\n",
      "[ tensor_3d ]\n",
      "tf.Tensor(\n",
      "[[[1 2 3]]\n",
      "\n",
      " [[4 5 6]]], shape=(2, 1, 3), dtype=int32)\n",
      "\n",
      "\n",
      "[ reshaped_batch ]\n",
      "tf.Tensor(\n",
      "[[[ 1  2  3]\n",
      "  [ 4  5  6]]\n",
      "\n",
      " [[ 7  8  9]\n",
      "  [10 11 12]]\n",
      "\n",
      " [[13 14 15]\n",
      "  [16 17 18]]\n",
      "\n",
      " [[19 20 21]\n",
      "  [22 23 24]]], shape=(4, 2, 3), dtype=int32)\n",
      "\n",
      "\n"
     ]
    }
   ],
   "source": [
    "import tensorflow as tf\n",
    "import numpy as np\n",
    "\n",
    "# Use | tf.convert_to_tensor()\n",
    "m1=[[1.0, 2.0], [3.0, 4.0]]\n",
    "m2=np.array([[1.0, 2.0],\n",
    "             [3.0, 4.0]], dtype=np.float32)\n",
    "t1=tf.convert_to_tensor(m1, dtype=tf.float32)\n",
    "t2=tf.convert_to_tensor(m2, dtype=tf.float32)\n",
    "print(t1)\n",
    "print(t2)\n",
    "# 불타입 텐서 생성\n",
    "bool_tensor = tf.constant([True,False,True], dtype=tf.bool)\n",
    "# 불형 텐서를 정수형으로 변환(T -> 1, F -> 0)\n",
    "int_tensor = tf.cast(bool_tensor, dtype=tf.int32)\n",
    "print(int_tensor)\n",
    "\n",
    "# 정수형 텐서 생성\n",
    "x = tf.constant([1,2,3,4], dtype=tf.int32)\n",
    "# 정수형 텐서를 실수형으로 변환\n",
    "x_float = tf.cast(x, dtype=tf.float32)\n",
    "print(x_float)\n",
    "\n",
    "# 1차원 텐서 생성\n",
    "tensor_1d = tf.constant([1, 2, 3, 4, 5, 6], dtype=tf.int32)\n",
    "# 1차원 텐서를 2x3의 2차원 텐서로 변환\n",
    "tensor_2d = tf.reshape(tensor_1d, shape=(2, 3))\n",
    "print(\"[ tensor_2d ]\", end=\"\\n\")\n",
    "print(tensor_2d, end=\"\\n\\n\\n\")\n",
    "# 2차원 텐서 생성\n",
    "tensor_2d = tf.constant([[1, 2, 3],\n",
    "                         [4, 5, 6]], dtype=tf.int32)\n",
    "# 2차원 텐서를 3차원 텐서로 변환\n",
    "tensor_3d = tf.reshape(tensor_2d, shape=(2, 1, 3))#((3, 1, 3) >> 1행 3열이 2개)\n",
    "print(\"[ tensor_3d ]\", end=\"\\n\")\n",
    "print(tensor_3d, end=\"\\n\\n\\n\")\n",
    "# 예시로, 8개의 샘플이 있고 각 샘플은 3개의 피처를 가짐\n",
    "tensor_batch = tf.constant([[1, 2, 3], [4, 5, 6], [7, 8, 9], [10, 11, 12], \n",
    "                            [13, 14, 15], [16, 17, 18], [19, 20, 21], [22, 23, 24]], dtype=tf.int32)\n",
    "# 배치 크기를 4로 변경 (2x4 배치로 변환)\n",
    "reshaped_batch = tf.reshape(tensor_batch, shape=(4, 2, 3))\n",
    "print(\"[ reshaped_batch ]\", end=\"\\n\")\n",
    "print(reshaped_batch, end=\"\\n\\n\\n\")"
   ]
  }
 ],
 "metadata": {
  "kernelspec": {
   "display_name": ".venv",
   "language": "python",
   "name": "python3"
  },
  "language_info": {
   "codemirror_mode": {
    "name": "ipython",
    "version": 3
   },
   "file_extension": ".py",
   "mimetype": "text/x-python",
   "name": "python",
   "nbconvert_exporter": "python",
   "pygments_lexer": "ipython3",
   "version": "3.7.4"
  }
 },
 "nbformat": 4,
 "nbformat_minor": 2
}
